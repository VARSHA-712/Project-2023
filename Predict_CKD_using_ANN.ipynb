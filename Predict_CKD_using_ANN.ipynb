{
  "nbformat": 4,
  "nbformat_minor": 0,
  "metadata": {
    "colab": {
      "provenance": [],
      "include_colab_link": true
    },
    "kernelspec": {
      "name": "python3",
      "display_name": "Python 3"
    }
  },
  "cells": [
    {
      "cell_type": "markdown",
      "metadata": {
        "id": "view-in-github",
        "colab_type": "text"
      },
      "source": [
        "<a href=\"https://colab.research.google.com/github/VARSHA-712/Project-2023/blob/main/Predict_CKD_using_ANN.ipynb\" target=\"_parent\"><img src=\"https://colab.research.google.com/assets/colab-badge.svg\" alt=\"Open In Colab\"/></a>"
      ]
    },
    {
      "cell_type": "code",
      "metadata": {
        "id": "tRrJqQ28xAHo"
      },
      "source": [
        "#Description : This program classifies patients having CKD or not\n",
        "# Using Artificial Neural Networks (ANN)"
      ],
      "execution_count": null,
      "outputs": []
    },
    {
      "cell_type": "markdown",
      "metadata": {
        "id": "jlpMY04mZRwk"
      },
      "source": [
        "# New Section"
      ]
    },
    {
      "cell_type": "code",
      "metadata": {
        "id": "aZDjmWg5xSue"
      },
      "source": [
        "#Import liraries\n",
        "import glob\n",
        "from keras.models import Sequential, load_model\n",
        "import numpy as np\n",
        "import pandas as pd\n",
        "from keras.layers import Dense\n",
        "from sklearn.model_selection import train_test_split\n",
        "from sklearn.preprocessing import LabelEncoder, MinMaxScaler\n",
        "import matplotlib.pyplot as plt\n",
        "import keras as k\n",
        "\n",
        "import seaborn as sns\n",
        "\n",
        "import tempfile\n",
        "import os\n",
        "import json\n",
        "import tensorflow as tf\n",
        "\n",
        "import warnings\n",
        "import pickle\n",
        "\n"
      ],
      "execution_count": null,
      "outputs": []
    },
    {
      "cell_type": "code",
      "metadata": {
        "id": "FK9Ef2v4yUxo",
        "colab": {
          "resources": {
            "http://localhost:8080/nbextensions/google.colab/files.js": {
              "data": "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",
              "ok": true,
              "headers": [
                [
                  "content-type",
                  "application/javascript"
                ]
              ],
              "status": 200,
              "status_text": ""
            }
          },
          "base_uri": "https://localhost:8080/",
          "height": 259
        },
        "outputId": "c9b9171c-5855-4b58-9151-a8744470b864"
      },
      "source": [
        "#Load the data\n",
        "from google.colab import files\n",
        "upload = files.upload()\n",
        "\n",
        "df = pd.read_csv('kidney_disease.csv')\n",
        "\n",
        "#print the 5 rows of data frame(df)\n",
        "df.head()"
      ],
      "execution_count": null,
      "outputs": [
        {
          "output_type": "display_data",
          "data": {
            "text/html": [
              "\n",
              "     <input type=\"file\" id=\"files-7ff2211e-f084-416f-8c38-45a8f58cb3f0\" name=\"files[]\" multiple disabled\n",
              "        style=\"border:none\" />\n",
              "     <output id=\"result-7ff2211e-f084-416f-8c38-45a8f58cb3f0\">\n",
              "      Upload widget is only available when the cell has been executed in the\n",
              "      current browser session. Please rerun this cell to enable.\n",
              "      </output>\n",
              "      <script src=\"/nbextensions/google.colab/files.js\"></script> "
            ],
            "text/plain": [
              "<IPython.core.display.HTML object>"
            ]
          },
          "metadata": {
            "tags": []
          }
        },
        {
          "output_type": "stream",
          "text": [
            "Saving kidney_disease.csv to kidney_disease (5).csv\n"
          ],
          "name": "stdout"
        },
        {
          "output_type": "execute_result",
          "data": {
            "text/html": [
              "<div>\n",
              "<style scoped>\n",
              "    .dataframe tbody tr th:only-of-type {\n",
              "        vertical-align: middle;\n",
              "    }\n",
              "\n",
              "    .dataframe tbody tr th {\n",
              "        vertical-align: top;\n",
              "    }\n",
              "\n",
              "    .dataframe thead th {\n",
              "        text-align: right;\n",
              "    }\n",
              "</style>\n",
              "<table border=\"1\" class=\"dataframe\">\n",
              "  <thead>\n",
              "    <tr style=\"text-align: right;\">\n",
              "      <th></th>\n",
              "      <th>id</th>\n",
              "      <th>age</th>\n",
              "      <th>bp</th>\n",
              "      <th>sg</th>\n",
              "      <th>al</th>\n",
              "      <th>su</th>\n",
              "      <th>rbc</th>\n",
              "      <th>pc</th>\n",
              "      <th>pcc</th>\n",
              "      <th>ba</th>\n",
              "      <th>bgr</th>\n",
              "      <th>bu</th>\n",
              "      <th>sc</th>\n",
              "      <th>sod</th>\n",
              "      <th>pot</th>\n",
              "      <th>hemo</th>\n",
              "      <th>pcv</th>\n",
              "      <th>wc</th>\n",
              "      <th>rc</th>\n",
              "      <th>htn</th>\n",
              "      <th>dm</th>\n",
              "      <th>cad</th>\n",
              "      <th>appet</th>\n",
              "      <th>pe</th>\n",
              "      <th>ane</th>\n",
              "      <th>classification</th>\n",
              "    </tr>\n",
              "  </thead>\n",
              "  <tbody>\n",
              "    <tr>\n",
              "      <th>0</th>\n",
              "      <td>0</td>\n",
              "      <td>48.0</td>\n",
              "      <td>80.0</td>\n",
              "      <td>1.020</td>\n",
              "      <td>1.0</td>\n",
              "      <td>0.0</td>\n",
              "      <td>NaN</td>\n",
              "      <td>normal</td>\n",
              "      <td>notpresent</td>\n",
              "      <td>notpresent</td>\n",
              "      <td>121.0</td>\n",
              "      <td>36.0</td>\n",
              "      <td>1.2</td>\n",
              "      <td>NaN</td>\n",
              "      <td>NaN</td>\n",
              "      <td>15.4</td>\n",
              "      <td>44</td>\n",
              "      <td>7800</td>\n",
              "      <td>5.2</td>\n",
              "      <td>yes</td>\n",
              "      <td>yes</td>\n",
              "      <td>no</td>\n",
              "      <td>good</td>\n",
              "      <td>no</td>\n",
              "      <td>no</td>\n",
              "      <td>ckd</td>\n",
              "    </tr>\n",
              "    <tr>\n",
              "      <th>1</th>\n",
              "      <td>1</td>\n",
              "      <td>7.0</td>\n",
              "      <td>50.0</td>\n",
              "      <td>1.020</td>\n",
              "      <td>4.0</td>\n",
              "      <td>0.0</td>\n",
              "      <td>NaN</td>\n",
              "      <td>normal</td>\n",
              "      <td>notpresent</td>\n",
              "      <td>notpresent</td>\n",
              "      <td>NaN</td>\n",
              "      <td>18.0</td>\n",
              "      <td>0.8</td>\n",
              "      <td>NaN</td>\n",
              "      <td>NaN</td>\n",
              "      <td>11.3</td>\n",
              "      <td>38</td>\n",
              "      <td>6000</td>\n",
              "      <td>NaN</td>\n",
              "      <td>no</td>\n",
              "      <td>no</td>\n",
              "      <td>no</td>\n",
              "      <td>good</td>\n",
              "      <td>no</td>\n",
              "      <td>no</td>\n",
              "      <td>ckd</td>\n",
              "    </tr>\n",
              "    <tr>\n",
              "      <th>2</th>\n",
              "      <td>2</td>\n",
              "      <td>62.0</td>\n",
              "      <td>80.0</td>\n",
              "      <td>1.010</td>\n",
              "      <td>2.0</td>\n",
              "      <td>3.0</td>\n",
              "      <td>normal</td>\n",
              "      <td>normal</td>\n",
              "      <td>notpresent</td>\n",
              "      <td>notpresent</td>\n",
              "      <td>423.0</td>\n",
              "      <td>53.0</td>\n",
              "      <td>1.8</td>\n",
              "      <td>NaN</td>\n",
              "      <td>NaN</td>\n",
              "      <td>9.6</td>\n",
              "      <td>31</td>\n",
              "      <td>7500</td>\n",
              "      <td>NaN</td>\n",
              "      <td>no</td>\n",
              "      <td>yes</td>\n",
              "      <td>no</td>\n",
              "      <td>poor</td>\n",
              "      <td>no</td>\n",
              "      <td>yes</td>\n",
              "      <td>ckd</td>\n",
              "    </tr>\n",
              "    <tr>\n",
              "      <th>3</th>\n",
              "      <td>3</td>\n",
              "      <td>48.0</td>\n",
              "      <td>70.0</td>\n",
              "      <td>1.005</td>\n",
              "      <td>4.0</td>\n",
              "      <td>0.0</td>\n",
              "      <td>normal</td>\n",
              "      <td>abnormal</td>\n",
              "      <td>present</td>\n",
              "      <td>notpresent</td>\n",
              "      <td>117.0</td>\n",
              "      <td>56.0</td>\n",
              "      <td>3.8</td>\n",
              "      <td>111.0</td>\n",
              "      <td>2.5</td>\n",
              "      <td>11.2</td>\n",
              "      <td>32</td>\n",
              "      <td>6700</td>\n",
              "      <td>3.9</td>\n",
              "      <td>yes</td>\n",
              "      <td>no</td>\n",
              "      <td>no</td>\n",
              "      <td>poor</td>\n",
              "      <td>yes</td>\n",
              "      <td>yes</td>\n",
              "      <td>ckd</td>\n",
              "    </tr>\n",
              "    <tr>\n",
              "      <th>4</th>\n",
              "      <td>4</td>\n",
              "      <td>51.0</td>\n",
              "      <td>80.0</td>\n",
              "      <td>1.010</td>\n",
              "      <td>2.0</td>\n",
              "      <td>0.0</td>\n",
              "      <td>normal</td>\n",
              "      <td>normal</td>\n",
              "      <td>notpresent</td>\n",
              "      <td>notpresent</td>\n",
              "      <td>106.0</td>\n",
              "      <td>26.0</td>\n",
              "      <td>1.4</td>\n",
              "      <td>NaN</td>\n",
              "      <td>NaN</td>\n",
              "      <td>11.6</td>\n",
              "      <td>35</td>\n",
              "      <td>7300</td>\n",
              "      <td>4.6</td>\n",
              "      <td>no</td>\n",
              "      <td>no</td>\n",
              "      <td>no</td>\n",
              "      <td>good</td>\n",
              "      <td>no</td>\n",
              "      <td>no</td>\n",
              "      <td>ckd</td>\n",
              "    </tr>\n",
              "  </tbody>\n",
              "</table>\n",
              "</div>"
            ],
            "text/plain": [
              "   id   age    bp     sg   al   su  ...   dm cad appet   pe  ane  classification\n",
              "0   0  48.0  80.0  1.020  1.0  0.0  ...  yes  no  good   no   no             ckd\n",
              "1   1   7.0  50.0  1.020  4.0  0.0  ...   no  no  good   no   no             ckd\n",
              "2   2  62.0  80.0  1.010  2.0  3.0  ...  yes  no  poor   no  yes             ckd\n",
              "3   3  48.0  70.0  1.005  4.0  0.0  ...   no  no  poor  yes  yes             ckd\n",
              "4   4  51.0  80.0  1.010  2.0  0.0  ...   no  no  good   no   no             ckd\n",
              "\n",
              "[5 rows x 26 columns]"
            ]
          },
          "metadata": {
            "tags": []
          },
          "execution_count": 133
        }
      ]
    },
    {
      "cell_type": "code",
      "metadata": {
        "id": "RXALgCTEzk4J",
        "colab": {
          "base_uri": "https://localhost:8080/",
          "height": 34
        },
        "outputId": "40c1bec1-213b-40fc-8568-effc410d2321"
      },
      "source": [
        "#Get the shapeof the data(get the no of rows and columns)\n",
        "df.shape"
      ],
      "execution_count": null,
      "outputs": [
        {
          "output_type": "execute_result",
          "data": {
            "text/plain": [
              "(400, 26)"
            ]
          },
          "metadata": {
            "tags": []
          },
          "execution_count": 134
        }
      ]
    },
    {
      "cell_type": "code",
      "metadata": {
        "id": "KYSq7-nsfI9d",
        "colab": {
          "base_uri": "https://localhost:8080/",
          "height": 1000
        },
        "outputId": "5d87f606-be7f-478f-d060-16fe3c731c85"
      },
      "source": [
        "corrmat = df.corr()\n",
        "top_corr_features = corrmat.index\n",
        "plt.figure(figsize=(20,20))\n",
        "g = sns.heatmap(df[top_corr_features].corr(),annot=True,cmap=\"RdYlGn\")"
      ],
      "execution_count": null,
      "outputs": [
        {
          "output_type": "display_data",
          "data": {
            "image/png": "[encoded data removed]",
            "text/plain": [
              "<Figure size 1440x1440 with 2 Axes>"
            ]
          },
          "metadata": {
            "tags": [],
            "needs_background": "light"
          }
        }
      ]
    },
    {
      "cell_type": "code",
      "metadata": {
        "id": "HAxKALg5zw3I"
      },
      "source": [
        "#Create a list of column names to keep\n",
        "columns_to_retain = ['age', 'bp', 'sg','al', 'su', 'sc', 'hemo', 'pcv', 'wbcc', 'rbcc', 'htn', 'classification'] # try 1\n",
        "#columns_to_retain = ['bp', 'sg', 'su', 'sc', 'htn', 'dm', 'classification'] # try 2\n",
        "\n",
        "#Drop the columns thar are not in columns_to_retain\n",
        "df = df.drop( [col for col in df.columns if not col in columns_to_retain], axis=1 )\n",
        "\n",
        "#Drop the rows with na or missing values\n",
        "df = df.dropna(axis=0)"
      ],
      "execution_count": null,
      "outputs": []
    },
    {
      "cell_type": "code",
      "metadata": {
        "id": "SQ4jv0BQ08v7",
        "colab": {
          "base_uri": "https://localhost:8080/",
          "height": 34
        },
        "outputId": "df90dab5-b85d-497b-f540-d224cca579d3"
      },
      "source": [
        "df.shape"
      ],
      "execution_count": null,
      "outputs": [
        {
          "output_type": "execute_result",
          "data": {
            "text/plain": [
              "(276, 10)"
            ]
          },
          "metadata": {
            "tags": []
          },
          "execution_count": 137
        }
      ]
    },
    {
      "cell_type": "code",
      "metadata": {
        "id": "hJ01wrXg0_y4"
      },
      "source": [
        "#Transform the non-numeric data in the columns\n",
        "for column in df.columns:\n",
        "  if df[column].dtype == np.number:\n",
        "    continue\n",
        "  df[column] = LabelEncoder().fit_transform( df[column] )"
      ],
      "execution_count": null,
      "outputs": []
    },
    {
      "cell_type": "code",
      "metadata": {
        "id": "ewkYRuFUs1qx",
        "colab": {
          "base_uri": "https://localhost:8080/",
          "height": 1000
        },
        "outputId": "355d77a3-3076-4039-84a8-5b3d40281585"
      },
      "source": [
        "corrmat = df.corr()\n",
        "top_corr_features = corrmat.index\n",
        "plt.figure(figsize=(20,20))\n",
        "g = sns.heatmap(df[top_corr_features].corr(),annot=True,cmap=\"RdYlGn\")"
      ],
      "execution_count": null,
      "outputs": [
        {
          "output_type": "display_data",
          "data": {
            "image/png": "[encoded data removed]",
            "text/plain": [
              "<Figure size 1440x1440 with 2 Axes>"
            ]
          },
          "metadata": {
            "tags": [],
            "needs_background": "light"
          }
        }
      ]
    },
    {
      "cell_type": "code",
      "metadata": {
        "id": "aZ8S251A1uqt",
        "colab": {
          "base_uri": "https://localhost:8080/",
          "height": 419
        },
        "outputId": "c86c5e8e-b288-4f6e-c75b-b33677e08d8b"
      },
      "source": [
        "#Print the first 5 rows of the new cleaned data set\n",
        "df.head(100)"
      ],
      "execution_count": null,
      "outputs": [
        {
          "output_type": "execute_result",
          "data": {
            "text/html": [
              "<div>\n",
              "<style scoped>\n",
              "    .dataframe tbody tr th:only-of-type {\n",
              "        vertical-align: middle;\n",
              "    }\n",
              "\n",
              "    .dataframe tbody tr th {\n",
              "        vertical-align: top;\n",
              "    }\n",
              "\n",
              "    .dataframe thead th {\n",
              "        text-align: right;\n",
              "    }\n",
              "</style>\n",
              "<table border=\"1\" class=\"dataframe\">\n",
              "  <thead>\n",
              "    <tr style=\"text-align: right;\">\n",
              "      <th></th>\n",
              "      <th>age</th>\n",
              "      <th>bp</th>\n",
              "      <th>sg</th>\n",
              "      <th>al</th>\n",
              "      <th>su</th>\n",
              "      <th>sc</th>\n",
              "      <th>hemo</th>\n",
              "      <th>pcv</th>\n",
              "      <th>htn</th>\n",
              "      <th>classification</th>\n",
              "    </tr>\n",
              "  </thead>\n",
              "  <tbody>\n",
              "    <tr>\n",
              "      <th>0</th>\n",
              "      <td>48.0</td>\n",
              "      <td>80.0</td>\n",
              "      <td>1.020</td>\n",
              "      <td>1.0</td>\n",
              "      <td>0.0</td>\n",
              "      <td>1.2</td>\n",
              "      <td>15.4</td>\n",
              "      <td>27</td>\n",
              "      <td>1</td>\n",
              "      <td>0</td>\n",
              "    </tr>\n",
              "    <tr>\n",
              "      <th>1</th>\n",
              "      <td>7.0</td>\n",
              "      <td>50.0</td>\n",
              "      <td>1.020</td>\n",
              "      <td>4.0</td>\n",
              "      <td>0.0</td>\n",
              "      <td>0.8</td>\n",
              "      <td>11.3</td>\n",
              "      <td>21</td>\n",
              "      <td>0</td>\n",
              "      <td>0</td>\n",
              "    </tr>\n",
              "    <tr>\n",
              "      <th>2</th>\n",
              "      <td>62.0</td>\n",
              "      <td>80.0</td>\n",
              "      <td>1.010</td>\n",
              "      <td>2.0</td>\n",
              "      <td>3.0</td>\n",
              "      <td>1.8</td>\n",
              "      <td>9.6</td>\n",
              "      <td>14</td>\n",
              "      <td>0</td>\n",
              "      <td>0</td>\n",
              "    </tr>\n",
              "    <tr>\n",
              "      <th>3</th>\n",
              "      <td>48.0</td>\n",
              "      <td>70.0</td>\n",
              "      <td>1.005</td>\n",
              "      <td>4.0</td>\n",
              "      <td>0.0</td>\n",
              "      <td>3.8</td>\n",
              "      <td>11.2</td>\n",
              "      <td>15</td>\n",
              "      <td>1</td>\n",
              "      <td>0</td>\n",
              "    </tr>\n",
              "    <tr>\n",
              "      <th>4</th>\n",
              "      <td>51.0</td>\n",
              "      <td>80.0</td>\n",
              "      <td>1.010</td>\n",
              "      <td>2.0</td>\n",
              "      <td>0.0</td>\n",
              "      <td>1.4</td>\n",
              "      <td>11.6</td>\n",
              "      <td>18</td>\n",
              "      <td>0</td>\n",
              "      <td>0</td>\n",
              "    </tr>\n",
              "    <tr>\n",
              "      <th>...</th>\n",
              "      <td>...</td>\n",
              "      <td>...</td>\n",
              "      <td>...</td>\n",
              "      <td>...</td>\n",
              "      <td>...</td>\n",
              "      <td>...</td>\n",
              "      <td>...</td>\n",
              "      <td>...</td>\n",
              "      <td>...</td>\n",
              "      <td>...</td>\n",
              "    </tr>\n",
              "    <tr>\n",
              "      <th>158</th>\n",
              "      <td>71.0</td>\n",
              "      <td>60.0</td>\n",
              "      <td>1.020</td>\n",
              "      <td>3.0</td>\n",
              "      <td>2.0</td>\n",
              "      <td>1.5</td>\n",
              "      <td>10.9</td>\n",
              "      <td>14</td>\n",
              "      <td>1</td>\n",
              "      <td>0</td>\n",
              "    </tr>\n",
              "    <tr>\n",
              "      <th>159</th>\n",
              "      <td>59.0</td>\n",
              "      <td>80.0</td>\n",
              "      <td>1.010</td>\n",
              "      <td>1.0</td>\n",
              "      <td>0.0</td>\n",
              "      <td>1.3</td>\n",
              "      <td>10.4</td>\n",
              "      <td>18</td>\n",
              "      <td>0</td>\n",
              "      <td>0</td>\n",
              "    </tr>\n",
              "    <tr>\n",
              "      <th>163</th>\n",
              "      <td>46.0</td>\n",
              "      <td>80.0</td>\n",
              "      <td>1.010</td>\n",
              "      <td>0.0</td>\n",
              "      <td>0.0</td>\n",
              "      <td>2.0</td>\n",
              "      <td>9.0</td>\n",
              "      <td>10</td>\n",
              "      <td>1</td>\n",
              "      <td>0</td>\n",
              "    </tr>\n",
              "    <tr>\n",
              "      <th>167</th>\n",
              "      <td>34.0</td>\n",
              "      <td>70.0</td>\n",
              "      <td>1.020</td>\n",
              "      <td>0.0</td>\n",
              "      <td>0.0</td>\n",
              "      <td>0.9</td>\n",
              "      <td>12.7</td>\n",
              "      <td>25</td>\n",
              "      <td>0</td>\n",
              "      <td>0</td>\n",
              "    </tr>\n",
              "    <tr>\n",
              "      <th>168</th>\n",
              "      <td>65.0</td>\n",
              "      <td>70.0</td>\n",
              "      <td>1.015</td>\n",
              "      <td>4.0</td>\n",
              "      <td>4.0</td>\n",
              "      <td>1.5</td>\n",
              "      <td>11.0</td>\n",
              "      <td>22</td>\n",
              "      <td>1</td>\n",
              "      <td>0</td>\n",
              "    </tr>\n",
              "  </tbody>\n",
              "</table>\n",
              "<p>100 rows × 10 columns</p>\n",
              "</div>"
            ],
            "text/plain": [
              "      age    bp     sg   al   su   sc  hemo  pcv  htn  classification\n",
              "0    48.0  80.0  1.020  1.0  0.0  1.2  15.4   27    1               0\n",
              "1     7.0  50.0  1.020  4.0  0.0  0.8  11.3   21    0               0\n",
              "2    62.0  80.0  1.010  2.0  3.0  1.8   9.6   14    0               0\n",
              "3    48.0  70.0  1.005  4.0  0.0  3.8  11.2   15    1               0\n",
              "4    51.0  80.0  1.010  2.0  0.0  1.4  11.6   18    0               0\n",
              "..    ...   ...    ...  ...  ...  ...   ...  ...  ...             ...\n",
              "158  71.0  60.0  1.020  3.0  2.0  1.5  10.9   14    1               0\n",
              "159  59.0  80.0  1.010  1.0  0.0  1.3  10.4   18    0               0\n",
              "163  46.0  80.0  1.010  0.0  0.0  2.0   9.0   10    1               0\n",
              "167  34.0  70.0  1.020  0.0  0.0  0.9  12.7   25    0               0\n",
              "168  65.0  70.0  1.015  4.0  4.0  1.5  11.0   22    1               0\n",
              "\n",
              "[100 rows x 10 columns]"
            ]
          },
          "metadata": {
            "tags": []
          },
          "execution_count": 140
        }
      ]
    },
    {
      "cell_type": "code",
      "metadata": {
        "id": "A9imIDZ62Bli"
      },
      "source": [
        "#Split the data into independent (X) data set (the features) and dependent (Y) data set (the target)\n",
        "X = df.drop(['classification'], axis=1)\n",
        "Y = df['classification']"
      ],
      "execution_count": null,
      "outputs": []
    },
    {
      "cell_type": "code",
      "metadata": {
        "id": "PoBHd02R2m9W"
      },
      "source": [
        "#Feature scaling\n",
        "#min-max scalar method scales the data set so that all the input featires lie between 0 and 1\n",
        "x_scalar = MinMaxScaler()\n",
        "x_scalar.fit(X)\n",
        "column_names = X.columns\n",
        "X[column_names] = x_scalar.transform(X)"
      ],
      "execution_count": null,
      "outputs": []
    },
    {
      "cell_type": "code",
      "metadata": {
        "id": "hiJwJ9EK3rai"
      },
      "source": [
        "#Split the data in to 80% training and 20% testing & shuffle\n",
        "X_train, X_test, Y_train, Y_test = train_test_split(X, Y, test_size = 0.2, shuffle=True)"
      ],
      "execution_count": null,
      "outputs": []
    },
    {
      "cell_type": "code",
      "metadata": {
        "id": "2aw68-_P4GhJ"
      },
      "source": [
        "#Build the model using a sequential model\n",
        "model = Sequential()\n",
        "model.add(Dense(7, input_dim = len(X.columns), kernel_initializer=k.initializers.random_normal(seed=13), activation='relu'))\n",
        "model.add(Dense(1, activation='hard_sigmoid'))"
      ],
      "execution_count": null,
      "outputs": []
    },
    {
      "cell_type": "code",
      "metadata": {
        "id": "5W_0I0mj5OJ4"
      },
      "source": [
        "#Compile the model. binary_crossentropy is function use to two classes(yes or no like things)\n",
        "model.compile(loss='binary_crossentropy', optimizer='adam', metrics=['accuracy'])"
      ],
      "execution_count": null,
      "outputs": []
    },
    {
      "cell_type": "code",
      "metadata": {
        "id": "ShlSC9e86ecU",
        "colab": {
          "base_uri": "https://localhost:8080/",
          "height": 1000
        },
        "outputId": "42b5c445-9eb6-4db9-8ce8-303acc451474"
      },
      "source": [
        "#Train the model\n",
        "history = model.fit(X_train, Y_train, epochs=250, batch_size=X_train.shape[0])"
      ],
      "execution_count": null,
      "outputs": [
        {
          "output_type": "stream",
          "text": [
            "Epoch 1/250\n",
            "220/220 [==============================] - 0s 465us/step - loss: 0.7022 - accuracy: 0.4273\n",
            "Epoch 2/250\n",
            "220/220 [==============================] - 0s 15us/step - loss: 0.7003 - accuracy: 0.4409\n",
            "Epoch 3/250\n",
            "220/220 [==============================] - 0s 11us/step - loss: 0.6984 - accuracy: 0.4682\n",
            "Epoch 4/250\n",
            "220/220 [==============================] - 0s 17us/step - loss: 0.6966 - accuracy: 0.5091\n",
            "Epoch 5/250\n",
            "220/220 [==============================] - 0s 15us/step - loss: 0.6947 - accuracy: 0.5455\n",
            "Epoch 6/250\n",
            "220/220 [==============================] - 0s 12us/step - loss: 0.6929 - accuracy: 0.5773\n",
            "Epoch 7/250\n",
            "220/220 [==============================] - 0s 14us/step - loss: 0.6911 - accuracy: 0.6364\n",
            "Epoch 8/250\n",
            "220/220 [==============================] - 0s 11us/step - loss: 0.6893 - accuracy: 0.6818\n",
            "Epoch 9/250\n",
            "220/220 [==============================] - 0s 10us/step - loss: 0.6876 - accuracy: 0.6864\n",
            "Epoch 10/250\n",
            "220/220 [==============================] - 0s 13us/step - loss: 0.6859 - accuracy: 0.7227\n",
            "Epoch 11/250\n",
            "220/220 [==============================] - 0s 22us/step - loss: 0.6842 - accuracy: 0.7545\n",
            "Epoch 12/250\n",
            "220/220 [==============================] - 0s 18us/step - loss: 0.6825 - accuracy: 0.8045\n",
            "Epoch 13/250\n",
            "220/220 [==============================] - 0s 15us/step - loss: 0.6809 - accuracy: 0.8182\n",
            "Epoch 14/250\n",
            "220/220 [==============================] - 0s 17us/step - loss: 0.6793 - accuracy: 0.8364\n",
            "Epoch 15/250\n",
            "220/220 [==============================] - 0s 11us/step - loss: 0.6777 - accuracy: 0.8545\n",
            "Epoch 16/250\n",
            "220/220 [==============================] - 0s 16us/step - loss: 0.6761 - accuracy: 0.8864\n",
            "Epoch 17/250\n",
            "220/220 [==============================] - 0s 14us/step - loss: 0.6746 - accuracy: 0.8864\n",
            "Epoch 18/250\n",
            "220/220 [==============================] - 0s 18us/step - loss: 0.6730 - accuracy: 0.8909\n",
            "Epoch 19/250\n",
            "220/220 [==============================] - 0s 11us/step - loss: 0.6715 - accuracy: 0.8955\n",
            "Epoch 20/250\n",
            "220/220 [==============================] - 0s 12us/step - loss: 0.6699 - accuracy: 0.9045\n",
            "Epoch 21/250\n",
            "220/220 [==============================] - 0s 11us/step - loss: 0.6684 - accuracy: 0.9091\n",
            "Epoch 22/250\n",
            "220/220 [==============================] - 0s 13us/step - loss: 0.6669 - accuracy: 0.9227\n",
            "Epoch 23/250\n",
            "220/220 [==============================] - 0s 12us/step - loss: 0.6655 - accuracy: 0.9227\n",
            "Epoch 24/250\n",
            "220/220 [==============================] - 0s 11us/step - loss: 0.6640 - accuracy: 0.9318\n",
            "Epoch 25/250\n",
            "220/220 [==============================] - 0s 12us/step - loss: 0.6626 - accuracy: 0.9318\n",
            "Epoch 26/250\n",
            "220/220 [==============================] - 0s 12us/step - loss: 0.6613 - accuracy: 0.9318\n",
            "Epoch 27/250\n",
            "220/220 [==============================] - 0s 12us/step - loss: 0.6599 - accuracy: 0.9318\n",
            "Epoch 28/250\n",
            "220/220 [==============================] - 0s 12us/step - loss: 0.6586 - accuracy: 0.9318\n",
            "Epoch 29/250\n",
            "220/220 [==============================] - 0s 9us/step - loss: 0.6572 - accuracy: 0.9364\n",
            "Epoch 30/250\n",
            "220/220 [==============================] - 0s 11us/step - loss: 0.6559 - accuracy: 0.9364\n",
            "Epoch 31/250\n",
            "220/220 [==============================] - 0s 12us/step - loss: 0.6545 - accuracy: 0.9409\n",
            "Epoch 32/250\n",
            "220/220 [==============================] - 0s 9us/step - loss: 0.6531 - accuracy: 0.9409\n",
            "Epoch 33/250\n",
            "220/220 [==============================] - 0s 10us/step - loss: 0.6518 - accuracy: 0.9409\n",
            "Epoch 34/250\n",
            "220/220 [==============================] - 0s 8us/step - loss: 0.6504 - accuracy: 0.9455\n",
            "Epoch 35/250\n",
            "220/220 [==============================] - 0s 12us/step - loss: 0.6490 - accuracy: 0.9455\n",
            "Epoch 36/250\n",
            "220/220 [==============================] - 0s 41us/step - loss: 0.6477 - accuracy: 0.9455\n",
            "Epoch 37/250\n",
            "220/220 [==============================] - 0s 19us/step - loss: 0.6463 - accuracy: 0.9455\n",
            "Epoch 38/250\n",
            "220/220 [==============================] - 0s 14us/step - loss: 0.6449 - accuracy: 0.9455\n",
            "Epoch 39/250\n",
            "220/220 [==============================] - 0s 12us/step - loss: 0.6436 - accuracy: 0.9455\n",
            "Epoch 40/250\n",
            "220/220 [==============================] - 0s 29us/step - loss: 0.6422 - accuracy: 0.9455\n",
            "Epoch 41/250\n",
            "220/220 [==============================] - 0s 14us/step - loss: 0.6409 - accuracy: 0.9455\n",
            "Epoch 42/250\n",
            "220/220 [==============================] - 0s 15us/step - loss: 0.6395 - accuracy: 0.9455\n",
            "Epoch 43/250\n",
            "220/220 [==============================] - 0s 10us/step - loss: 0.6381 - accuracy: 0.9455\n",
            "Epoch 44/250\n",
            "220/220 [==============================] - 0s 23us/step - loss: 0.6367 - accuracy: 0.9500\n",
            "Epoch 45/250\n",
            "220/220 [==============================] - 0s 14us/step - loss: 0.6354 - accuracy: 0.9500\n",
            "Epoch 46/250\n",
            "220/220 [==============================] - 0s 15us/step - loss: 0.6340 - accuracy: 0.9500\n",
            "Epoch 47/250\n",
            "220/220 [==============================] - 0s 11us/step - loss: 0.6326 - accuracy: 0.9500\n",
            "Epoch 48/250\n",
            "220/220 [==============================] - 0s 10us/step - loss: 0.6312 - accuracy: 0.9500\n",
            "Epoch 49/250\n",
            "220/220 [==============================] - 0s 10us/step - loss: 0.6298 - accuracy: 0.9500\n",
            "Epoch 50/250\n",
            "220/220 [==============================] - 0s 11us/step - loss: 0.6284 - accuracy: 0.9500\n",
            "Epoch 51/250\n",
            "220/220 [==============================] - 0s 10us/step - loss: 0.6270 - accuracy: 0.9500\n",
            "Epoch 52/250\n",
            "220/220 [==============================] - 0s 14us/step - loss: 0.6256 - accuracy: 0.9500\n",
            "Epoch 53/250\n",
            "220/220 [==============================] - 0s 9us/step - loss: 0.6241 - accuracy: 0.9500\n",
            "Epoch 54/250\n",
            "220/220 [==============================] - 0s 13us/step - loss: 0.6227 - accuracy: 0.9500\n",
            "Epoch 55/250\n",
            "220/220 [==============================] - 0s 10us/step - loss: 0.6213 - accuracy: 0.9455\n",
            "Epoch 56/250\n",
            "220/220 [==============================] - 0s 11us/step - loss: 0.6199 - accuracy: 0.9455\n",
            "Epoch 57/250\n",
            "220/220 [==============================] - 0s 13us/step - loss: 0.6184 - accuracy: 0.9455\n",
            "Epoch 58/250\n",
            "220/220 [==============================] - 0s 12us/step - loss: 0.6170 - accuracy: 0.9455\n",
            "Epoch 59/250\n",
            "220/220 [==============================] - 0s 13us/step - loss: 0.6156 - accuracy: 0.9455\n",
            "Epoch 60/250\n",
            "220/220 [==============================] - 0s 12us/step - loss: 0.6142 - accuracy: 0.9455\n",
            "Epoch 61/250\n",
            "220/220 [==============================] - 0s 16us/step - loss: 0.6127 - accuracy: 0.9455\n",
            "Epoch 62/250\n",
            "220/220 [==============================] - 0s 12us/step - loss: 0.6113 - accuracy: 0.9455\n",
            "Epoch 63/250\n",
            "220/220 [==============================] - 0s 15us/step - loss: 0.6099 - accuracy: 0.9455\n",
            "Epoch 64/250\n",
            "220/220 [==============================] - 0s 14us/step - loss: 0.6084 - accuracy: 0.9455\n",
            "Epoch 65/250\n",
            "220/220 [==============================] - 0s 14us/step - loss: 0.6070 - accuracy: 0.9455\n",
            "Epoch 66/250\n",
            "220/220 [==============================] - 0s 18us/step - loss: 0.6055 - accuracy: 0.9455\n",
            "Epoch 67/250\n",
            "220/220 [==============================] - 0s 15us/step - loss: 0.6040 - accuracy: 0.9455\n",
            "Epoch 68/250\n",
            "220/220 [==============================] - 0s 13us/step - loss: 0.6026 - accuracy: 0.9455\n",
            "Epoch 69/250\n",
            "220/220 [==============================] - 0s 16us/step - loss: 0.6011 - accuracy: 0.9455\n",
            "Epoch 70/250\n",
            "220/220 [==============================] - 0s 13us/step - loss: 0.5997 - accuracy: 0.9455\n",
            "Epoch 71/250\n",
            "220/220 [==============================] - 0s 11us/step - loss: 0.5982 - accuracy: 0.9455\n",
            "Epoch 72/250\n",
            "220/220 [==============================] - 0s 12us/step - loss: 0.5967 - accuracy: 0.9455\n",
            "Epoch 73/250\n",
            "220/220 [==============================] - 0s 12us/step - loss: 0.5952 - accuracy: 0.9455\n",
            "Epoch 74/250\n",
            "220/220 [==============================] - 0s 11us/step - loss: 0.5938 - accuracy: 0.9455\n",
            "Epoch 75/250\n",
            "220/220 [==============================] - 0s 13us/step - loss: 0.5923 - accuracy: 0.9455\n",
            "Epoch 76/250\n",
            "220/220 [==============================] - 0s 16us/step - loss: 0.5908 - accuracy: 0.9455\n",
            "Epoch 77/250\n",
            "220/220 [==============================] - 0s 13us/step - loss: 0.5893 - accuracy: 0.9455\n",
            "Epoch 78/250\n",
            "220/220 [==============================] - 0s 12us/step - loss: 0.5878 - accuracy: 0.9455\n",
            "Epoch 79/250\n",
            "220/220 [==============================] - 0s 16us/step - loss: 0.5863 - accuracy: 0.9455\n",
            "Epoch 80/250\n",
            "220/220 [==============================] - 0s 13us/step - loss: 0.5848 - accuracy: 0.9455\n",
            "Epoch 81/250\n",
            "220/220 [==============================] - 0s 12us/step - loss: 0.5833 - accuracy: 0.9455\n",
            "Epoch 82/250\n",
            "220/220 [==============================] - 0s 17us/step - loss: 0.5818 - accuracy: 0.9455\n",
            "Epoch 83/250\n",
            "220/220 [==============================] - 0s 16us/step - loss: 0.5803 - accuracy: 0.9455\n",
            "Epoch 84/250\n",
            "220/220 [==============================] - 0s 16us/step - loss: 0.5788 - accuracy: 0.9455\n",
            "Epoch 85/250\n",
            "220/220 [==============================] - 0s 12us/step - loss: 0.5773 - accuracy: 0.9455\n",
            "Epoch 86/250\n",
            "220/220 [==============================] - 0s 14us/step - loss: 0.5758 - accuracy: 0.9455\n",
            "Epoch 87/250\n",
            "220/220 [==============================] - 0s 16us/step - loss: 0.5743 - accuracy: 0.9455\n",
            "Epoch 88/250\n",
            "220/220 [==============================] - 0s 11us/step - loss: 0.5727 - accuracy: 0.9409\n",
            "Epoch 89/250\n",
            "220/220 [==============================] - 0s 50us/step - loss: 0.5712 - accuracy: 0.9409\n",
            "Epoch 90/250\n",
            "220/220 [==============================] - 0s 14us/step - loss: 0.5697 - accuracy: 0.9409\n",
            "Epoch 91/250\n",
            "220/220 [==============================] - 0s 13us/step - loss: 0.5681 - accuracy: 0.9409\n",
            "Epoch 92/250\n",
            "220/220 [==============================] - 0s 13us/step - loss: 0.5666 - accuracy: 0.9409\n",
            "Epoch 93/250\n",
            "220/220 [==============================] - 0s 13us/step - loss: 0.5651 - accuracy: 0.9409\n",
            "Epoch 94/250\n",
            "220/220 [==============================] - 0s 10us/step - loss: 0.5635 - accuracy: 0.9409\n",
            "Epoch 95/250\n",
            "220/220 [==============================] - 0s 14us/step - loss: 0.5620 - accuracy: 0.9409\n",
            "Epoch 96/250\n",
            "220/220 [==============================] - 0s 25us/step - loss: 0.5604 - accuracy: 0.9409\n",
            "Epoch 97/250\n",
            "220/220 [==============================] - 0s 15us/step - loss: 0.5589 - accuracy: 0.9409\n",
            "Epoch 98/250\n",
            "220/220 [==============================] - 0s 15us/step - loss: 0.5573 - accuracy: 0.9364\n",
            "Epoch 99/250\n",
            "220/220 [==============================] - 0s 15us/step - loss: 0.5558 - accuracy: 0.9364\n",
            "Epoch 100/250\n",
            "220/220 [==============================] - 0s 11us/step - loss: 0.5542 - accuracy: 0.9364\n",
            "Epoch 101/250\n",
            "220/220 [==============================] - 0s 14us/step - loss: 0.5526 - accuracy: 0.9364\n",
            "Epoch 102/250\n",
            "220/220 [==============================] - 0s 10us/step - loss: 0.5511 - accuracy: 0.9364\n",
            "Epoch 103/250\n",
            "220/220 [==============================] - 0s 15us/step - loss: 0.5495 - accuracy: 0.9364\n",
            "Epoch 104/250\n",
            "220/220 [==============================] - 0s 14us/step - loss: 0.5479 - accuracy: 0.9364\n",
            "Epoch 105/250\n",
            "220/220 [==============================] - 0s 16us/step - loss: 0.5463 - accuracy: 0.9364\n",
            "Epoch 106/250\n",
            "220/220 [==============================] - 0s 13us/step - loss: 0.5447 - accuracy: 0.9364\n",
            "Epoch 107/250\n",
            "220/220 [==============================] - 0s 10us/step - loss: 0.5431 - accuracy: 0.9364\n",
            "Epoch 108/250\n",
            "220/220 [==============================] - 0s 12us/step - loss: 0.5416 - accuracy: 0.9364\n",
            "Epoch 109/250\n",
            "220/220 [==============================] - 0s 11us/step - loss: 0.5400 - accuracy: 0.9364\n",
            "Epoch 110/250\n",
            "220/220 [==============================] - 0s 14us/step - loss: 0.5384 - accuracy: 0.9364\n",
            "Epoch 111/250\n",
            "220/220 [==============================] - 0s 14us/step - loss: 0.5368 - accuracy: 0.9364\n",
            "Epoch 112/250\n",
            "220/220 [==============================] - 0s 14us/step - loss: 0.5352 - accuracy: 0.9364\n",
            "Epoch 113/250\n",
            "220/220 [==============================] - 0s 14us/step - loss: 0.5336 - accuracy: 0.9364\n",
            "Epoch 114/250\n",
            "220/220 [==============================] - 0s 14us/step - loss: 0.5320 - accuracy: 0.9364\n",
            "Epoch 115/250\n",
            "220/220 [==============================] - 0s 14us/step - loss: 0.5304 - accuracy: 0.9364\n",
            "Epoch 116/250\n",
            "220/220 [==============================] - 0s 14us/step - loss: 0.5287 - accuracy: 0.9364\n",
            "Epoch 117/250\n",
            "220/220 [==============================] - 0s 11us/step - loss: 0.5271 - accuracy: 0.9364\n",
            "Epoch 118/250\n",
            "220/220 [==============================] - 0s 15us/step - loss: 0.5255 - accuracy: 0.9364\n",
            "Epoch 119/250\n",
            "220/220 [==============================] - 0s 16us/step - loss: 0.5239 - accuracy: 0.9364\n",
            "Epoch 120/250\n",
            "220/220 [==============================] - 0s 11us/step - loss: 0.5223 - accuracy: 0.9364\n",
            "Epoch 121/250\n",
            "220/220 [==============================] - 0s 11us/step - loss: 0.5207 - accuracy: 0.9364\n",
            "Epoch 122/250\n",
            "220/220 [==============================] - 0s 11us/step - loss: 0.5191 - accuracy: 0.9364\n",
            "Epoch 123/250\n",
            "220/220 [==============================] - 0s 11us/step - loss: 0.5174 - accuracy: 0.9364\n",
            "Epoch 124/250\n",
            "220/220 [==============================] - 0s 15us/step - loss: 0.5158 - accuracy: 0.9364\n",
            "Epoch 125/250\n",
            "220/220 [==============================] - 0s 16us/step - loss: 0.5142 - accuracy: 0.9364\n",
            "Epoch 126/250\n",
            "220/220 [==============================] - 0s 28us/step - loss: 0.5125 - accuracy: 0.9364\n",
            "Epoch 127/250\n",
            "220/220 [==============================] - 0s 20us/step - loss: 0.5109 - accuracy: 0.9364\n",
            "Epoch 128/250\n",
            "220/220 [==============================] - 0s 17us/step - loss: 0.5093 - accuracy: 0.9364\n",
            "Epoch 129/250\n",
            "220/220 [==============================] - 0s 17us/step - loss: 0.5076 - accuracy: 0.9364\n",
            "Epoch 130/250\n",
            "220/220 [==============================] - 0s 15us/step - loss: 0.5060 - accuracy: 0.9364\n",
            "Epoch 131/250\n",
            "220/220 [==============================] - 0s 16us/step - loss: 0.5043 - accuracy: 0.9364\n",
            "Epoch 132/250\n",
            "220/220 [==============================] - 0s 13us/step - loss: 0.5027 - accuracy: 0.9364\n",
            "Epoch 133/250\n",
            "220/220 [==============================] - 0s 12us/step - loss: 0.5011 - accuracy: 0.9364\n",
            "Epoch 134/250\n",
            "220/220 [==============================] - 0s 18us/step - loss: 0.4994 - accuracy: 0.9364\n",
            "Epoch 135/250\n",
            "220/220 [==============================] - 0s 16us/step - loss: 0.4978 - accuracy: 0.9364\n",
            "Epoch 136/250\n",
            "220/220 [==============================] - 0s 18us/step - loss: 0.4961 - accuracy: 0.9364\n",
            "Epoch 137/250\n",
            "220/220 [==============================] - 0s 18us/step - loss: 0.4945 - accuracy: 0.9364\n",
            "Epoch 138/250\n",
            "220/220 [==============================] - 0s 15us/step - loss: 0.4928 - accuracy: 0.9364\n",
            "Epoch 139/250\n",
            "220/220 [==============================] - 0s 16us/step - loss: 0.4912 - accuracy: 0.9364\n",
            "Epoch 140/250\n",
            "220/220 [==============================] - 0s 19us/step - loss: 0.4895 - accuracy: 0.9364\n",
            "Epoch 141/250\n",
            "220/220 [==============================] - 0s 16us/step - loss: 0.4879 - accuracy: 0.9364\n",
            "Epoch 142/250\n",
            "220/220 [==============================] - 0s 15us/step - loss: 0.4862 - accuracy: 0.9364\n",
            "Epoch 143/250\n",
            "220/220 [==============================] - 0s 16us/step - loss: 0.4845 - accuracy: 0.9364\n",
            "Epoch 144/250\n",
            "220/220 [==============================] - 0s 17us/step - loss: 0.4829 - accuracy: 0.9364\n",
            "Epoch 145/250\n",
            "220/220 [==============================] - 0s 18us/step - loss: 0.4812 - accuracy: 0.9364\n",
            "Epoch 146/250\n",
            "220/220 [==============================] - 0s 18us/step - loss: 0.4796 - accuracy: 0.9364\n",
            "Epoch 147/250\n",
            "220/220 [==============================] - 0s 14us/step - loss: 0.4779 - accuracy: 0.9364\n",
            "Epoch 148/250\n",
            "220/220 [==============================] - 0s 15us/step - loss: 0.4762 - accuracy: 0.9364\n",
            "Epoch 149/250\n",
            "220/220 [==============================] - 0s 16us/step - loss: 0.4746 - accuracy: 0.9364\n",
            "Epoch 150/250\n",
            "220/220 [==============================] - 0s 18us/step - loss: 0.4729 - accuracy: 0.9364\n",
            "Epoch 151/250\n",
            "220/220 [==============================] - 0s 15us/step - loss: 0.4712 - accuracy: 0.9364\n",
            "Epoch 152/250\n",
            "220/220 [==============================] - 0s 15us/step - loss: 0.4696 - accuracy: 0.9364\n",
            "Epoch 153/250\n",
            "220/220 [==============================] - 0s 18us/step - loss: 0.4679 - accuracy: 0.9364\n",
            "Epoch 154/250\n",
            "220/220 [==============================] - 0s 12us/step - loss: 0.4662 - accuracy: 0.9364\n",
            "Epoch 155/250\n",
            "220/220 [==============================] - 0s 15us/step - loss: 0.4646 - accuracy: 0.9364\n",
            "Epoch 156/250\n",
            "220/220 [==============================] - 0s 15us/step - loss: 0.4629 - accuracy: 0.9364\n",
            "Epoch 157/250\n",
            "220/220 [==============================] - 0s 17us/step - loss: 0.4612 - accuracy: 0.9364\n",
            "Epoch 158/250\n",
            "220/220 [==============================] - 0s 14us/step - loss: 0.4596 - accuracy: 0.9364\n",
            "Epoch 159/250\n",
            "220/220 [==============================] - 0s 11us/step - loss: 0.4579 - accuracy: 0.9364\n",
            "Epoch 160/250\n",
            "220/220 [==============================] - 0s 13us/step - loss: 0.4562 - accuracy: 0.9364\n",
            "Epoch 161/250\n",
            "220/220 [==============================] - 0s 11us/step - loss: 0.4545 - accuracy: 0.9364\n",
            "Epoch 162/250\n",
            "220/220 [==============================] - 0s 11us/step - loss: 0.4529 - accuracy: 0.9364\n",
            "Epoch 163/250\n",
            "220/220 [==============================] - 0s 16us/step - loss: 0.4512 - accuracy: 0.9364\n",
            "Epoch 164/250\n",
            "220/220 [==============================] - 0s 15us/step - loss: 0.4495 - accuracy: 0.9364\n",
            "Epoch 165/250\n",
            "220/220 [==============================] - 0s 15us/step - loss: 0.4478 - accuracy: 0.9364\n",
            "Epoch 166/250\n",
            "220/220 [==============================] - 0s 15us/step - loss: 0.4461 - accuracy: 0.9364\n",
            "Epoch 167/250\n",
            "220/220 [==============================] - 0s 13us/step - loss: 0.4445 - accuracy: 0.9364\n",
            "Epoch 168/250\n",
            "220/220 [==============================] - 0s 10us/step - loss: 0.4428 - accuracy: 0.9364\n",
            "Epoch 169/250\n",
            "220/220 [==============================] - 0s 13us/step - loss: 0.4411 - accuracy: 0.9364\n",
            "Epoch 170/250\n",
            "220/220 [==============================] - 0s 12us/step - loss: 0.4394 - accuracy: 0.9364\n",
            "Epoch 171/250\n",
            "220/220 [==============================] - 0s 12us/step - loss: 0.4377 - accuracy: 0.9364\n",
            "Epoch 172/250\n",
            "220/220 [==============================] - 0s 13us/step - loss: 0.4360 - accuracy: 0.9364\n",
            "Epoch 173/250\n",
            "220/220 [==============================] - 0s 18us/step - loss: 0.4343 - accuracy: 0.9364\n",
            "Epoch 174/250\n",
            "220/220 [==============================] - 0s 15us/step - loss: 0.4327 - accuracy: 0.9364\n",
            "Epoch 175/250\n",
            "220/220 [==============================] - 0s 13us/step - loss: 0.4310 - accuracy: 0.9364\n",
            "Epoch 176/250\n",
            "220/220 [==============================] - 0s 14us/step - loss: 0.4293 - accuracy: 0.9364\n",
            "Epoch 177/250\n",
            "220/220 [==============================] - 0s 17us/step - loss: 0.4276 - accuracy: 0.9364\n",
            "Epoch 178/250\n",
            "220/220 [==============================] - 0s 18us/step - loss: 0.4259 - accuracy: 0.9364\n",
            "Epoch 179/250\n",
            "220/220 [==============================] - 0s 14us/step - loss: 0.4242 - accuracy: 0.9364\n",
            "Epoch 180/250\n",
            "220/220 [==============================] - 0s 15us/step - loss: 0.4225 - accuracy: 0.9364\n",
            "Epoch 181/250\n",
            "220/220 [==============================] - 0s 14us/step - loss: 0.4208 - accuracy: 0.9364\n",
            "Epoch 182/250\n",
            "220/220 [==============================] - 0s 14us/step - loss: 0.4191 - accuracy: 0.9364\n",
            "Epoch 183/250\n",
            "220/220 [==============================] - 0s 15us/step - loss: 0.4174 - accuracy: 0.9364\n",
            "Epoch 184/250\n",
            "220/220 [==============================] - 0s 11us/step - loss: 0.4157 - accuracy: 0.9364\n",
            "Epoch 185/250\n",
            "220/220 [==============================] - 0s 18us/step - loss: 0.4141 - accuracy: 0.9364\n",
            "Epoch 186/250\n",
            "220/220 [==============================] - 0s 20us/step - loss: 0.4124 - accuracy: 0.9364\n",
            "Epoch 187/250\n",
            "220/220 [==============================] - 0s 18us/step - loss: 0.4107 - accuracy: 0.9364\n",
            "Epoch 188/250\n",
            "220/220 [==============================] - 0s 15us/step - loss: 0.4090 - accuracy: 0.9364\n",
            "Epoch 189/250\n",
            "220/220 [==============================] - 0s 11us/step - loss: 0.4073 - accuracy: 0.9364\n",
            "Epoch 190/250\n",
            "220/220 [==============================] - 0s 15us/step - loss: 0.4056 - accuracy: 0.9364\n",
            "Epoch 191/250\n",
            "220/220 [==============================] - 0s 10us/step - loss: 0.4039 - accuracy: 0.9364\n",
            "Epoch 192/250\n",
            "220/220 [==============================] - 0s 11us/step - loss: 0.4022 - accuracy: 0.9364\n",
            "Epoch 193/250\n",
            "220/220 [==============================] - 0s 10us/step - loss: 0.4005 - accuracy: 0.9364\n",
            "Epoch 194/250\n",
            "220/220 [==============================] - 0s 10us/step - loss: 0.3988 - accuracy: 0.9364\n",
            "Epoch 195/250\n",
            "220/220 [==============================] - 0s 13us/step - loss: 0.3971 - accuracy: 0.9364\n",
            "Epoch 196/250\n",
            "220/220 [==============================] - 0s 13us/step - loss: 0.3955 - accuracy: 0.9364\n",
            "Epoch 197/250\n",
            "220/220 [==============================] - 0s 14us/step - loss: 0.3938 - accuracy: 0.9364\n",
            "Epoch 198/250\n",
            "220/220 [==============================] - 0s 14us/step - loss: 0.3921 - accuracy: 0.9364\n",
            "Epoch 199/250\n",
            "220/220 [==============================] - 0s 13us/step - loss: 0.3904 - accuracy: 0.9364\n",
            "Epoch 200/250\n",
            "220/220 [==============================] - 0s 14us/step - loss: 0.3887 - accuracy: 0.9364\n",
            "Epoch 201/250\n",
            "220/220 [==============================] - 0s 10us/step - loss: 0.3870 - accuracy: 0.9364\n",
            "Epoch 202/250\n",
            "220/220 [==============================] - 0s 15us/step - loss: 0.3853 - accuracy: 0.9364\n",
            "Epoch 203/250\n",
            "220/220 [==============================] - 0s 11us/step - loss: 0.3836 - accuracy: 0.9364\n",
            "Epoch 204/250\n",
            "220/220 [==============================] - 0s 13us/step - loss: 0.3819 - accuracy: 0.9364\n",
            "Epoch 205/250\n",
            "220/220 [==============================] - 0s 14us/step - loss: 0.3802 - accuracy: 0.9364\n",
            "Epoch 206/250\n",
            "220/220 [==============================] - 0s 10us/step - loss: 0.3785 - accuracy: 0.9364\n",
            "Epoch 207/250\n",
            "220/220 [==============================] - 0s 10us/step - loss: 0.3769 - accuracy: 0.9364\n",
            "Epoch 208/250\n",
            "220/220 [==============================] - 0s 14us/step - loss: 0.3752 - accuracy: 0.9364\n",
            "Epoch 209/250\n",
            "220/220 [==============================] - 0s 12us/step - loss: 0.3735 - accuracy: 0.9364\n",
            "Epoch 210/250\n",
            "220/220 [==============================] - 0s 14us/step - loss: 0.3718 - accuracy: 0.9364\n",
            "Epoch 211/250\n",
            "220/220 [==============================] - 0s 11us/step - loss: 0.3701 - accuracy: 0.9364\n",
            "Epoch 212/250\n",
            "220/220 [==============================] - 0s 14us/step - loss: 0.3684 - accuracy: 0.9364\n",
            "Epoch 213/250\n",
            "220/220 [==============================] - 0s 13us/step - loss: 0.3667 - accuracy: 0.9364\n",
            "Epoch 214/250\n",
            "220/220 [==============================] - 0s 10us/step - loss: 0.3650 - accuracy: 0.9364\n",
            "Epoch 215/250\n",
            "220/220 [==============================] - 0s 18us/step - loss: 0.3634 - accuracy: 0.9364\n",
            "Epoch 216/250\n",
            "220/220 [==============================] - 0s 15us/step - loss: 0.3617 - accuracy: 0.9364\n",
            "Epoch 217/250\n",
            "220/220 [==============================] - 0s 13us/step - loss: 0.3600 - accuracy: 0.9364\n",
            "Epoch 218/250\n",
            "220/220 [==============================] - 0s 18us/step - loss: 0.3583 - accuracy: 0.9364\n",
            "Epoch 219/250\n",
            "220/220 [==============================] - 0s 20us/step - loss: 0.3566 - accuracy: 0.9364\n",
            "Epoch 220/250\n",
            "220/220 [==============================] - 0s 13us/step - loss: 0.3549 - accuracy: 0.9364\n",
            "Epoch 221/250\n",
            "220/220 [==============================] - 0s 15us/step - loss: 0.3533 - accuracy: 0.9364\n",
            "Epoch 222/250\n",
            "220/220 [==============================] - 0s 14us/step - loss: 0.3516 - accuracy: 0.9364\n",
            "Epoch 223/250\n",
            "220/220 [==============================] - 0s 14us/step - loss: 0.3499 - accuracy: 0.9364\n",
            "Epoch 224/250\n",
            "220/220 [==============================] - 0s 11us/step - loss: 0.3482 - accuracy: 0.9364\n",
            "Epoch 225/250\n",
            "220/220 [==============================] - 0s 19us/step - loss: 0.3466 - accuracy: 0.9364\n",
            "Epoch 226/250\n",
            "220/220 [==============================] - 0s 18us/step - loss: 0.3449 - accuracy: 0.9364\n",
            "Epoch 227/250\n",
            "220/220 [==============================] - 0s 18us/step - loss: 0.3433 - accuracy: 0.9364\n",
            "Epoch 228/250\n",
            "220/220 [==============================] - 0s 18us/step - loss: 0.3416 - accuracy: 0.9364\n",
            "Epoch 229/250\n",
            "220/220 [==============================] - 0s 14us/step - loss: 0.3399 - accuracy: 0.9364\n",
            "Epoch 230/250\n",
            "220/220 [==============================] - 0s 14us/step - loss: 0.3383 - accuracy: 0.9364\n",
            "Epoch 231/250\n",
            "220/220 [==============================] - 0s 13us/step - loss: 0.3366 - accuracy: 0.9364\n",
            "Epoch 232/250\n",
            "220/220 [==============================] - 0s 15us/step - loss: 0.3350 - accuracy: 0.9364\n",
            "Epoch 233/250\n",
            "220/220 [==============================] - 0s 17us/step - loss: 0.3333 - accuracy: 0.9364\n",
            "Epoch 234/250\n",
            "220/220 [==============================] - 0s 18us/step - loss: 0.3317 - accuracy: 0.9364\n",
            "Epoch 235/250\n",
            "220/220 [==============================] - 0s 17us/step - loss: 0.3300 - accuracy: 0.9364\n",
            "Epoch 236/250\n",
            "220/220 [==============================] - 0s 17us/step - loss: 0.3284 - accuracy: 0.9364\n",
            "Epoch 237/250\n",
            "220/220 [==============================] - 0s 15us/step - loss: 0.3268 - accuracy: 0.9364\n",
            "Epoch 238/250\n",
            "220/220 [==============================] - 0s 12us/step - loss: 0.3252 - accuracy: 0.9364\n",
            "Epoch 239/250\n",
            "220/220 [==============================] - 0s 15us/step - loss: 0.3235 - accuracy: 0.9364\n",
            "Epoch 240/250\n",
            "220/220 [==============================] - 0s 11us/step - loss: 0.3219 - accuracy: 0.9364\n",
            "Epoch 241/250\n",
            "220/220 [==============================] - 0s 17us/step - loss: 0.3203 - accuracy: 0.9364\n",
            "Epoch 242/250\n",
            "220/220 [==============================] - 0s 19us/step - loss: 0.3187 - accuracy: 0.9364\n",
            "Epoch 243/250\n",
            "220/220 [==============================] - 0s 16us/step - loss: 0.3171 - accuracy: 0.9364\n",
            "Epoch 244/250\n",
            "220/220 [==============================] - 0s 13us/step - loss: 0.3155 - accuracy: 0.9364\n",
            "Epoch 245/250\n",
            "220/220 [==============================] - 0s 18us/step - loss: 0.3139 - accuracy: 0.9364\n",
            "Epoch 246/250\n",
            "220/220 [==============================] - 0s 16us/step - loss: 0.3123 - accuracy: 0.9364\n",
            "Epoch 247/250\n",
            "220/220 [==============================] - 0s 14us/step - loss: 0.3107 - accuracy: 0.9364\n",
            "Epoch 248/250\n",
            "220/220 [==============================] - 0s 11us/step - loss: 0.3092 - accuracy: 0.9364\n",
            "Epoch 249/250\n",
            "220/220 [==============================] - 0s 19us/step - loss: 0.3076 - accuracy: 0.9364\n",
            "Epoch 250/250\n",
            "220/220 [==============================] - 0s 18us/step - loss: 0.3060 - accuracy: 0.9364\n"
          ],
          "name": "stdout"
        }
      ]
    },
    {
      "cell_type": "code",
      "metadata": {
        "id": "wKfYRwIOOv4e"
      },
      "source": [
        "#Save the model\n",
        "model.save('skd.model')"
      ],
      "execution_count": null,
      "outputs": []
    },
    {
      "cell_type": "code",
      "metadata": {
        "id": "uGS-HgDFO2CS",
        "colab": {
          "base_uri": "https://localhost:8080/",
          "height": 312
        },
        "outputId": "eaced2e2-7e7b-4be8-9d86-f6f67ffda602"
      },
      "source": [
        "#Visualize the mdoel loss and accuracy\n",
        "plt.plot(history.history['accuracy'])\n",
        "plt.plot(history.history['loss'])\n",
        "plt.title('Model Accuracy and Loss')\n",
        "plt.ylabel('accuracu and loss')\n",
        "plt.xlabel('epoch')"
      ],
      "execution_count": null,
      "outputs": [
        {
          "output_type": "execute_result",
          "data": {
            "text/plain": [
              "Text(0.5, 0, 'epoch')"
            ]
          },
          "metadata": {
            "tags": []
          },
          "execution_count": 148
        },
        {
          "output_type": "display_data",
          "data": {
            "image/png": "[encoded data removed]",
            "text/plain": [
              "<Figure size 432x288 with 1 Axes>"
            ]
          },
          "metadata": {
            "tags": [],
            "needs_background": "light"
          }
        }
      ]
    },
    {
      "cell_type": "code",
      "metadata": {
        "id": "SUsi7kSfFEZu",
        "colab": {
          "base_uri": "https://localhost:8080/",
          "height": 51
        },
        "outputId": "7bb65025-390f-4309-cd0b-4aef8d137e01"
      },
      "source": [
        "#get the shape of the training and testing data set\n",
        "print('shape of training data: ',X_train.shape)\n",
        "print('shape of testing data: ',X_test.shape)"
      ],
      "execution_count": null,
      "outputs": [
        {
          "output_type": "stream",
          "text": [
            "shape of training data:  (220, 9)\n",
            "shape of testing data:  (56, 9)\n"
          ],
          "name": "stdout"
        }
      ]
    },
    {
      "cell_type": "code",
      "metadata": {
        "id": "H-Ag07xMFCgL",
        "colab": {
          "base_uri": "https://localhost:8080/",
          "height": 71
        },
        "outputId": "623e385b-84a3-4ca4-c49b-c6e44b7e1854"
      },
      "source": [
        "#show the actual values and predicted values\n",
        "pred = model.predict(X_test) # pred will store the probability of having a CKD\n",
        "pred = [1 if Y>=0.5 else 0 for Y in pred] # use this line of no need of a probability\n",
        "pred\n",
        "\n",
        "print('original  : {0}'.format(\" , \".join(str(x) for x in Y_test)))\n",
        "print('predicted : {0}'.format(\" , \".join(str(x) for x in pred)))\n"
      ],
      "execution_count": null,
      "outputs": [
        {
          "output_type": "stream",
          "text": [
            "original  : 1 , 0 , 0 , 1 , 1 , 1 , 0 , 0 , 1 , 0 , 0 , 0 , 0 , 1 , 0 , 0 , 0 , 0 , 1 , 0 , 0 , 1 , 0 , 0 , 1 , 1 , 1 , 0 , 1 , 0 , 1 , 0 , 0 , 1 , 0 , 1 , 1 , 1 , 0 , 1 , 0 , 1 , 0 , 1 , 0 , 0 , 1 , 0 , 1 , 0 , 0 , 0 , 0 , 0 , 1 , 0\n",
            "predicted : 1 , 0 , 0 , 1 , 1 , 1 , 0 , 0 , 1 , 0 , 0 , 0 , 0 , 1 , 0 , 0 , 0 , 0 , 1 , 1 , 1 , 1 , 0 , 0 , 1 , 1 , 1 , 0 , 1 , 1 , 1 , 0 , 1 , 1 , 0 , 1 , 1 , 1 , 0 , 1 , 0 , 1 , 0 , 1 , 0 , 0 , 1 , 0 , 1 , 0 , 0 , 0 , 0 , 0 , 1 , 0\n"
          ],
          "name": "stdout"
        }
      ]
    },
    {
      "cell_type": "code",
      "metadata": {
        "id": "dQTq28SQJ-3A",
        "colab": {
          "base_uri": "https://localhost:8080/",
          "height": 34
        },
        "outputId": "c80f50ac-788d-4119-b300-f7caf4e5cb3f"
      },
      "source": [
        "#If need to predict for a one instance\n",
        "#---------------------------------------\n",
        "\n",
        "#myTestData = np.array([[0.729412,\t0.333333,\t0.25,\t0.2,\t0.0,\t0.118644,\t0.598639,\t0.447368,\t1.0]])\n",
        "myTestData = np.array([[0.282353,\t0.500000,\t0.75,\t0.0,\t0.0,\t0.021186,\t0.979592,\t0.605263,\t0.0]])\n",
        "\n",
        "pred = model.predict(myTestData)\n",
        "pred"
      ],
      "execution_count": null,
      "outputs": [
        {
          "output_type": "execute_result",
          "data": {
            "text/plain": [
              "array([[0.75523996]], dtype=float32)"
            ]
          },
          "metadata": {
            "tags": []
          },
          "execution_count": 151
        }
      ]
    },
    {
      "cell_type": "markdown",
      "metadata": {
        "id": "8r9oELx81laW"
      },
      "source": [
        "**Save the model**\n",
        "I have to save the trained model in a SavedModel format\n",
        "The model will have a version number and will be saved in a strudtured directory\n",
        "After model is saved, we can now use Tensorflow serving to start making inference request using a specific version of our trained model \"Servable\"\n",
        "\n",
        "\n"
      ]
    },
    {
      "cell_type": "code",
      "metadata": {
        "id": "tUKKx9CT3LUO"
      },
      "source": [
        "# Obtain a temporary storage decvice\n",
        "Model_directory = tempfile.gettempdir()"
      ],
      "execution_count": null,
      "outputs": []
    },
    {
      "cell_type": "code",
      "metadata": {
        "id": "SHXFbdsc4TCb",
        "colab": {
          "base_uri": "https://localhost:8080/",
          "height": 35
        },
        "outputId": "1aeba5d3-54aa-4bc5-8e7c-9b664af2ce35"
      },
      "source": [
        "Model_directory"
      ],
      "execution_count": null,
      "outputs": [
        {
          "output_type": "execute_result",
          "data": {
            "application/vnd.google.colaboratory.intrinsic+json": {
              "type": "string"
            },
            "text/plain": [
              "'/tmp'"
            ]
          },
          "metadata": {
            "tags": []
          },
          "execution_count": 153
        }
      ]
    },
    {
      "cell_type": "code",
      "metadata": {
        "id": "MyEs4hJT4Y3W"
      },
      "source": [
        "#specify the model versio number\n",
        "version = 1"
      ],
      "execution_count": null,
      "outputs": []
    },
    {
      "cell_type": "code",
      "metadata": {
        "id": "w6Yah-hH5anl",
        "colab": {
          "base_uri": "https://localhost:8080/",
          "height": 51
        },
        "outputId": "7abb6ac5-9e2a-4e5e-a8be-29dee7ad4dca"
      },
      "source": [
        "export_path = os.path.join(Model_directory, str(version))\n",
        "print('Export_path = {}\\n', format(export_path))"
      ],
      "execution_count": null,
      "outputs": [
        {
          "output_type": "stream",
          "text": [
            "Export_path = {}\n",
            " /tmp/1\n"
          ],
          "name": "stdout"
        }
      ]
    },
    {
      "cell_type": "code",
      "metadata": {
        "id": "PCo6_ahqEdA7"
      },
      "source": [
        "#Pickle way to save model\n",
        "pickle.dump(model,open('model.pkl','wb')) # to write the model to a pickle file\n",
        "#model = pickle.load(open('model.pkl','rb')) # read from the pickle file again\n"
      ],
      "execution_count": null,
      "outputs": []
    },
    {
      "cell_type": "code",
      "metadata": {
        "id": "MI4or_xsEr2k",
        "colab": {
          "base_uri": "https://localhost:8080/",
          "height": 204
        },
        "outputId": "98c8de97-5621-4b14-e95f-81cc6a93fcbb"
      },
      "source": [
        "df.tail()"
      ],
      "execution_count": null,
      "outputs": [
        {
          "output_type": "execute_result",
          "data": {
            "text/html": [
              "<div>\n",
              "<style scoped>\n",
              "    .dataframe tbody tr th:only-of-type {\n",
              "        vertical-align: middle;\n",
              "    }\n",
              "\n",
              "    .dataframe tbody tr th {\n",
              "        vertical-align: top;\n",
              "    }\n",
              "\n",
              "    .dataframe thead th {\n",
              "        text-align: right;\n",
              "    }\n",
              "</style>\n",
              "<table border=\"1\" class=\"dataframe\">\n",
              "  <thead>\n",
              "    <tr style=\"text-align: right;\">\n",
              "      <th></th>\n",
              "      <th>age</th>\n",
              "      <th>bp</th>\n",
              "      <th>sg</th>\n",
              "      <th>al</th>\n",
              "      <th>su</th>\n",
              "      <th>sc</th>\n",
              "      <th>hemo</th>\n",
              "      <th>pcv</th>\n",
              "      <th>htn</th>\n",
              "      <th>classification</th>\n",
              "    </tr>\n",
              "  </thead>\n",
              "  <tbody>\n",
              "    <tr>\n",
              "      <th>395</th>\n",
              "      <td>55.0</td>\n",
              "      <td>80.0</td>\n",
              "      <td>1.020</td>\n",
              "      <td>0.0</td>\n",
              "      <td>0.0</td>\n",
              "      <td>0.5</td>\n",
              "      <td>15.7</td>\n",
              "      <td>30</td>\n",
              "      <td>0</td>\n",
              "      <td>1</td>\n",
              "    </tr>\n",
              "    <tr>\n",
              "      <th>396</th>\n",
              "      <td>42.0</td>\n",
              "      <td>70.0</td>\n",
              "      <td>1.025</td>\n",
              "      <td>0.0</td>\n",
              "      <td>0.0</td>\n",
              "      <td>1.2</td>\n",
              "      <td>16.5</td>\n",
              "      <td>37</td>\n",
              "      <td>0</td>\n",
              "      <td>1</td>\n",
              "    </tr>\n",
              "    <tr>\n",
              "      <th>397</th>\n",
              "      <td>12.0</td>\n",
              "      <td>80.0</td>\n",
              "      <td>1.020</td>\n",
              "      <td>0.0</td>\n",
              "      <td>0.0</td>\n",
              "      <td>0.6</td>\n",
              "      <td>15.8</td>\n",
              "      <td>32</td>\n",
              "      <td>0</td>\n",
              "      <td>1</td>\n",
              "    </tr>\n",
              "    <tr>\n",
              "      <th>398</th>\n",
              "      <td>17.0</td>\n",
              "      <td>60.0</td>\n",
              "      <td>1.025</td>\n",
              "      <td>0.0</td>\n",
              "      <td>0.0</td>\n",
              "      <td>1.0</td>\n",
              "      <td>14.2</td>\n",
              "      <td>34</td>\n",
              "      <td>0</td>\n",
              "      <td>1</td>\n",
              "    </tr>\n",
              "    <tr>\n",
              "      <th>399</th>\n",
              "      <td>58.0</td>\n",
              "      <td>80.0</td>\n",
              "      <td>1.025</td>\n",
              "      <td>0.0</td>\n",
              "      <td>0.0</td>\n",
              "      <td>1.1</td>\n",
              "      <td>15.8</td>\n",
              "      <td>36</td>\n",
              "      <td>0</td>\n",
              "      <td>1</td>\n",
              "    </tr>\n",
              "  </tbody>\n",
              "</table>\n",
              "</div>"
            ],
            "text/plain": [
              "      age    bp     sg   al   su   sc  hemo  pcv  htn  classification\n",
              "395  55.0  80.0  1.020  0.0  0.0  0.5  15.7   30    0               1\n",
              "396  42.0  70.0  1.025  0.0  0.0  1.2  16.5   37    0               1\n",
              "397  12.0  80.0  1.020  0.0  0.0  0.6  15.8   32    0               1\n",
              "398  17.0  60.0  1.025  0.0  0.0  1.0  14.2   34    0               1\n",
              "399  58.0  80.0  1.025  0.0  0.0  1.1  15.8   36    0               1"
            ]
          },
          "metadata": {
            "tags": []
          },
          "execution_count": 157
        }
      ]
    }
  ]
}